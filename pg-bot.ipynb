{
 "cells": [
  {
   "cell_type": "markdown",
   "id": "4e29fddc",
   "metadata": {},
   "source": [
    "October 29th, 2024  \n",
    "PG-bot  \n",
    "Code Guru: sam-i-am\n"
   ]
  },
  {
   "cell_type": "markdown",
   "id": "a5a49268",
   "metadata": {},
   "source": [
    "## Outline\n",
    "\n",
    "* In pg-bot.py\n",
    "    * get prompt from user\n",
    "    * vectorize prompt\n",
    "    * query Neon\n",
    "    * Format for App output (retrieve formatted)"
   ]
  },
  {
   "cell_type": "code",
   "execution_count": 2,
   "id": "319fa9d1",
   "metadata": {},
   "outputs": [],
   "source": [
    "# this is needed to import the module pg-bot\n",
    "import sys\n",
    "sys.path.append('/home/sng/pg-bot/pg-bot') \n",
    "\n",
    "from config import get_client, EMBEDDING_MODEL\n",
    "import pandas as pd\n",
    "\n",
    "%load_ext autoreload\n",
    "%autoreload 2"
   ]
  },
  {
   "cell_type": "markdown",
   "id": "03f5f363",
   "metadata": {},
   "source": [
    "### Initialize the  OpenAIclient"
   ]
  },
  {
   "cell_type": "code",
   "execution_count": 8,
   "id": "b13ef890",
   "metadata": {},
   "outputs": [
    {
     "name": "stdout",
     "output_type": "stream",
     "text": [
      "OpenAI client is connected! SyncPage[Model](data=[Model(id='gpt-4-turbo', created=1712361441, object='model', owned_by='system'), Model(id='gpt-4-turbo-2024-04-09', created=1712601677, object='model', owned_by='system'), Model(id='tts-1', created=1681940951, object='model', owned_by='openai-internal'), Model(id='tts-1-1106', created=1699053241, object='model', owned_by='system'), Model(id='dall-e-2', created=1698798177, object='model', owned_by='system'), Model(id='whisper-1', created=1677532384, object='model', owned_by='openai-internal'), Model(id='gpt-3.5-turbo-instruct', created=1692901427, object='model', owned_by='system'), Model(id='chatgpt-4o-latest', created=1723515131, object='model', owned_by='system'), Model(id='gpt-4o-mini', created=1721172741, object='model', owned_by='system'), Model(id='gpt-4o-2024-05-13', created=1715368132, object='model', owned_by='system'), Model(id='gpt-3.5-turbo', created=1677610602, object='model', owned_by='openai'), Model(id='gpt-3.5-turbo-0125', created=1706048358, object='model', owned_by='system'), Model(id='babbage-002', created=1692634615, object='model', owned_by='system'), Model(id='davinci-002', created=1692634301, object='model', owned_by='system'), Model(id='dall-e-3', created=1698785189, object='model', owned_by='system'), Model(id='gpt-4o-realtime-preview', created=1727659998, object='model', owned_by='system'), Model(id='gpt-4o-realtime-preview-2024-10-01', created=1727131766, object='model', owned_by='system'), Model(id='gpt-4-1106-preview', created=1698957206, object='model', owned_by='system'), Model(id='text-embedding-ada-002', created=1671217299, object='model', owned_by='openai-internal'), Model(id='gpt-3.5-turbo-16k', created=1683758102, object='model', owned_by='openai-internal'), Model(id='gpt-4o-mini-2024-07-18', created=1721172717, object='model', owned_by='system'), Model(id='text-embedding-3-small', created=1705948997, object='model', owned_by='system'), Model(id='text-embedding-3-large', created=1705953180, object='model', owned_by='system'), Model(id='tts-1-hd', created=1699046015, object='model', owned_by='system'), Model(id='tts-1-hd-1106', created=1699053533, object='model', owned_by='system'), Model(id='gpt-3.5-turbo-1106', created=1698959748, object='model', owned_by='system'), Model(id='gpt-4o-audio-preview', created=1727460443, object='model', owned_by='system'), Model(id='gpt-4o-audio-preview-2024-10-01', created=1727389042, object='model', owned_by='system'), Model(id='gpt-4-0613', created=1686588896, object='model', owned_by='openai'), Model(id='gpt-4-turbo-preview', created=1706037777, object='model', owned_by='system'), Model(id='gpt-4o-2024-08-06', created=1722814719, object='model', owned_by='system'), Model(id='gpt-4-0125-preview', created=1706037612, object='model', owned_by='system'), Model(id='gpt-4o', created=1715367049, object='model', owned_by='system'), Model(id='gpt-4', created=1687882411, object='model', owned_by='openai'), Model(id='gpt-3.5-turbo-instruct-0914', created=1694122472, object='model', owned_by='system')], object='list')\n"
     ]
    }
   ],
   "source": [
    "client = get_client()\n",
    "try:\n",
    "    # Make a simple test API call\n",
    "    response = client.models.list()\n",
    "    print(\"OpenAI client is connected!\", response)\n",
    "except Exception as e:\n",
    "    print(f\"Error connecting to OpenAI: {e}\")"
   ]
  },
  {
   "cell_type": "code",
   "execution_count": 15,
   "id": "0cdac134",
   "metadata": {},
   "outputs": [
    {
     "data": {
      "text/plain": [
       "<connection object at 0x7f938845d580; dsn: 'user=neondb_owner password=xxx dbname=neondb host=ep-wandering-dawn-a565vw7x.us-east-2.aws.neon.tech sslmode=require', closed: 0>"
      ]
     },
     "execution_count": 15,
     "metadata": {},
     "output_type": "execute_result"
    }
   ],
   "source": [
    "# get vector from openai\n",
    "import oai_utils as oai\n",
    "import neondb as neon\n",
    "\n",
    "vector = oai.vectorize_data_with_openai('Tell me about UV Lamp Installation/Removal Instructions')\n",
    "vector\n",
    "\n"
   ]
  },
  {
   "cell_type": "code",
   "execution_count": null,
   "id": "8993333d",
   "metadata": {},
   "outputs": [],
   "source": [
    "# query neon\n",
    "conn = neon.connect_db()\n",
    "conn\n"
   ]
  },
  {
   "cell_type": "code",
   "execution_count": 16,
   "id": "d5857a95",
   "metadata": {},
   "outputs": [
    {
     "data": {
      "text/plain": [
       "['chunk_embeds',\n",
       " 'chunk_kwds',\n",
       " 'element_chunk_junction',\n",
       " 'raw_elements',\n",
       " 'tool_table']"
      ]
     },
     "execution_count": 16,
     "metadata": {},
     "output_type": "execute_result"
    }
   ],
   "source": [
    "neon.list_tables()"
   ]
  },
  {
   "cell_type": "code",
   "execution_count": 17,
   "id": "62d97246",
   "metadata": {},
   "outputs": [
    {
     "data": {
      "text/plain": [
       "[('chunk_id', 'text'),\n",
       " ('parent_type', 'text'),\n",
       " ('parent_content', 'text'),\n",
       " ('name_of_tool', 'text'),\n",
       " ('content', 'text'),\n",
       " ('embedding', 'USER-DEFINED')]"
      ]
     },
     "execution_count": 17,
     "metadata": {},
     "output_type": "execute_result"
    }
   ],
   "source": [
    "neon.list_columns('chunk_embeds')"
   ]
  },
  {
   "cell_type": "code",
   "execution_count": 19,
   "id": "0722d4b9",
   "metadata": {},
   "outputs": [
    {
     "data": {
      "text/plain": [
       "[('mc2scgxelv2e4pph41upli2m',\n",
       "  'header',\n",
       "  'INSTALLATION (continued)',\n",
       "  'Ultron Systems Model UH102/102-12 UV Curing System',\n",
       "  'INSTALLATION (continued)\\nUV Lamp Installation/Removal Instructions'),\n",
       " ('z8ukh96mym8mt80xip5ienxz',\n",
       "  'narrative_text',\n",
       "  'IMPORTANT NOTE!!!: UV Lamp installation and removal should be done with the power cord unplugged to insure the safety of the operator.',\n",
       "  'Ultron Systems Model UH102/102-12 UV Curing System',\n",
       "  'IMPORTANT NOTE!!!: UV Lamp installation and removal should be done with the power cord unplugged to insure the safety of the operator.\\n\\na) Raise the Door of the unit until it rests against the stops.\\n\\nb) Loosen the two 10/32” hex cap screws which secures the base plate to the unit (Door Frame Lock Screws) located on the inside front edge of the Door Frame on the Frame Lock (Figure 2).\\n\\nc) Remove the Frame Lock by pulling it towards the center of the unit. (Figure 2).\\n\\nd) Raise the Door Frame (hinged at the rear), and push it up against the Door. “Snap” them together in the open position (they will be held in place by ball plunger).\\n\\ne) Remove the Film Frame Adapter plate attached to the base plate by the four (4) round head Phillips screws.\\n\\nf) Carefully lift the Quartz Window out of its recess, and temporarily place in a safe location.\\n\\ng) The Shutter is now exposed, and is in the closed position. Carefully and slowly pull the shutter open using the Shield Header (the aluminum leading edge of the shutter - located towards the rear of the unit) towards the front of the unit until it is clear of the lamp housing area (Figure 3).\\n\\nNote: Avoid touching the UV lamp itself. Handle the UV lamp using the tray into which it is mounted. If the UV lamp is touched, carefully clean off fingerprints using Isopropyl Alcohol or a similar product. Remove all traces of contamination prior to using the UV lamp. Allow any cleaning agents to dry before starting the lamp.\\n\\nh) Bringing the new UV lamp into close proximity of the lamp mounting area, carefully rest the lamp off to one side, and route the two leads from the UV Lamp through the wire clamp to the terminal block at the rear of the unit opposite the two already connected power supply leads.. The UV Lamp Electrodes must be positioned facing the rear of the machine. The wires may be connected to either terminal location, they are not polarity sensitive. Note: (Fragile!!! The lamp is easily damaged. Do not drop or allow any tools to contact the lamp element.\\n\\ni) Carefully place the new UV Lamp onto the brackets provided for it above the UV lamp electrical connections (Figure 4). Line up the mounting holes in the UV lamp housing with the threaded holes in the mounting brackets, then carefully insert the socket head cap screws into the holes, and partially thread in each screw. Once the screws are in position, tighten each of the screws into place. CAUTION!!! Failure to use proper care will damage the lamp.'),\n",
       " ('up7o0pghxvjc8zphf2phpcax',\n",
       "  'header',\n",
       "  'INSTALLATION (continued)',\n",
       "  'Ultron Systems Model UH102/102-12 UV Curing System',\n",
       "  'INSTALLATION (continued)\\nUV Lamp Installation/Removal Instructions (continued)\\nj) Holding both the Door and the Door Frame, gently pull on the Door Frame to disengage the ball plunger, then lower the Door Frame all the way down (let the Door rest in the upright position during this procedure). Insert and tighten the two 10/32” hex cap screws (Door Frame Lock Screws) located on the inside front edge of the cabinet in the Frame Lock (see Figure 2), securing the base plate to the unit.\\n\\nf) Re-install the Frame Lock by aligning it to the connectors on the inside of the cabinet opening, then pressing it towards the front of the unit to secure it to the cabinet.\\n\\nk) Carefully return the Quartz Window to its proper position in the base plate, verifying that it is still clean and no smudges are noticeable.\\n\\nl) Mount the Film Frame Adapter plate on the base plate using the four (4) roundhead Phillips screws.\\n\\nm) Plug the power cord into an appropriate power outlet.\\n\\nn) The UV lamp installation is now complete. If applicable, properly dispose of the used UV lamp.\\nNote: If using the smallest size lamp available (6.25” square), it is not required to open the Door Frame to access the lamp. Accessing the lamp can be done through the Window opening. Remove the Quartz Window, loosen and remove the screw on each side of the lamp securing the lamp to the bracket, and carefully lift it up out of the opening and rest it off to one side temporarily. Then loosen and remove the two wires connecting the lamp to the terminal block. Install a new lamp by reversing this procedure (see Figure 4).'),\n",
       " ('k22fpmx7ql8uwa08jrjcoabv',\n",
       "  'header',\n",
       "  'UV LAMP MEASUREMENT PROCEDURE',\n",
       "  'Ultron Systems Model UH102/102-12 UV Curing System',\n",
       "  'UV LAMP MEASUREMENT PROCEDURE\\na) Make certain that the lamp has warmed up as described in the INSTALLATION section.\\\\n\\\\nb) Open the Door to the unit, place the Sensor in the approximate middle of the Quartz Window. Route the cable through the UV Measurement Port (the Sensor cable port located in the upper right-hand corner of the Door). A blank plug normally occupies the opening, which is removed and replaced by the connector located on the Sensor cable (Figure 3).\\\\n\\\\nc) Turn on the Radiometer, set it to the 20 mW/cm2 scale, and flip the rocker switch on the unit marked “Read/Hold” to the Hold position. NOTE: Verify that the sensor has a special 10:1 attenuator, which reduces the exposure port on the sensor to an area 10% of the normal area. Failure to use this attenuator will result in values shown off the scale of the Radiometer.\\\\n\\\\nd) Set the exposure time to 80 seconds.\\\\n\\\\ne) Insure that the N2 Flow is adjusted to supply 50 SCFH.\\\\n\\\\nf) Flip the rocker switch on the Radiometer labeled “Read/Hold” to the Read position.\\\\n\\\\ng) Press the Start button.\\\\n\\\\nh) Watch the time count down on the programmable panel. Record the lamp intensity level reading both at 45 seconds and again at 15 seconds.\\\\n\\\\ni) Leave the system with the UV lamp still turned on for another 15 minutes.'),\n",
       " ('zk017xheg7tuwnx0mgmd3e20',\n",
       "  'header',\n",
       "  'INSTALLATION',\n",
       "  'Ultron Systems Model UH102/102-12 UV Curing System',\n",
       "  'INSTALLATION\\nThe Model UH102 Manual UV Curing System is ready for use when assembled and connected in accordance with these instructions. Inspect the top and all sides of the unit for loose connections, missing parts, or possible damage. Any damage or loss should be reported immediately to the carrier and Ultron Systems, Inc. (who will advise on the action to be taken).\\nAfter unpacking, place the unit on a clean, level, well-lit table, and proceed to assemble the system as follows:\\na) Position the unit with the front panel (power switch, display panel, etc.) facing the operator.\\nb) Connect the air and nitrogen lines to their respective fittings on the back panel of the unit.\\nc) Attach the exhaust line to its respective connection on the rear of the unit.\\nd) Raise the Door of the unit until it rests against the stops.\\ne) Loosen the two 10/32” hex cap screws which secures the base plate to the unit (Door Frame Lock Screws) located on the inside front edge of the Door Frame on the Frame Lock (Figure 2).\\nf) Remove the Frame Lock by pulling it towards the center of the unit. (Figure 2).\\ng) Raise the Door Frame (hinged at the rear), and push it up against the Door. “Snap” them together in the open position (they will be held in place by ball plunger).\\nh) Remove the Film Frame Adapter plate attached to the base plate by the four (4) round head Phillips screws.\\ni) Install a UV lamp using the procedures detailed later in this section titled “UV Lamp Installation/Removal Instructions”, beginning at item “f” in that section.'),\n",
       " ('o6a2kd5j3t58ha1j5u92jl7e',\n",
       "  'header',\n",
       "  'UV LAMP MEASUREMENT PROCEDURE',\n",
       "  'Ultron Systems Model UH102/102-12 UV Curing System',\n",
       "  'UV LAMP MEASUREMENT PROCEDURE\\nUltron Systems offers a Radiometer and Sensor for measuring the intensity of the UV lamp. This is a simple hand held unit, with a cable connecting to the sensor, which is then placed in a port (located in the Door of the unit) designed specifically to fit the sensor/cable.\\\\n\\\\nIt is HIGHLY recommended that the user obtain a Radiometer and Sensor and use them on a regular basis, or as needed to help diagnose possible irregularities in the UV film process.\\\\n\\\\nDepending on the usage of the system, it is suggested that the lamp intensity is checked weekly. Check more often if in high volume production, and less often if the system is used only periodically. As the lamp intensity drops with usage, it is suggested that the exposure time is increased to maintain a consistent dosage for each exposure.\\\\n\\\\nTaking an Intensity Measurement:\\nWARNING!!! Make certain that the UV Light Sensor is removed after making any intensity measurements. DO NOT leave the sensor in place when a measurement is not being taken. Continuous exposure of the sensor to UV light will result in sensor degradation and eventual failure due to solarization of the sensor.'),\n",
       " ('vbofhr5257pwro6z976pgdrn',\n",
       "  'image',\n",
       "  \"Diagram labeled 'Figure 4' showing the UH102 lamp installation. Components such as the door frame, quartz window, UV lamp, shield header, wire clamp, and terminal block are highlighted.\",\n",
       "  'Ultron Systems Model UH102/102-12 UV Curing System',\n",
       "  \"Diagram labeled 'Figure 4' showing the UH102 lamp installation. Components such as the door frame, quartz window, UV lamp, shield header, wire clamp, and terminal block are highlighted.\"),\n",
       " ('ao3qiw8s0ektny9uvmwza7o0',\n",
       "  'header',\n",
       "  'OPERATION',\n",
       "  'Ultron Systems Model UH102/102-12 UV Curing System',\n",
       "  'OPERATION\\na) Depress the POWER button to turn on the system. The POWER button will illuminate, as well as the DISPLAY Panel. The DISPLAY will initially read “WARMING UP,” followed by the time remaining in the warm-up cycle counting down from 15 seconds. Note: When the POWER SWITCH is depressed, several things occur at once: The N₂ and air pressure valves are opened, the UV lamp begins warming up, and the countdown begins.\\nb) Adjust the N₂ flow knob to 50 SCFH (middle of the ball on the mark).\\nc) After the 15 second countdown has been completed the display will then indicate “READY”.\\nNote: Wait 3-5 minutes before using or testing the UV lamp to insure proper warm-up and stabilization of the output power. The amount of warm-up time required varies with how long the lamp has been turned off. A system that has been off overnight will require the full five minutes, 1-2 hours will only require a three minute warm-up. The lamp intensity is also greatly affected by the N₂ flow amount. Make certain a flow of 50 SCFH is maintained during all exposure cycles.\\nd) After the 15 second warm-up time, the display will read “Ready.” Program the timer for the desired UV exposure time by pressing the TIME button. The display will read “EXPOSURE TIME 000”. Enter the desired amount of time using the numeric keys; the numbers scroll to the left, and any error corrections or changes to the exposure time can be made by simply entering the new exposure time so that the incorrect/old exposure time scrolls off of the display. Press the TIME button again to end the programming. NOTE: A maximum of 128 seconds of can be entered for each exposure cycle.\\ne) Raise the Door of the unit on its hinges until it rests against the stops.'),\n",
       " ('xwy6rskr2rs0dirywcuz8757',\n",
       "  'header',\n",
       "  'UV LAMP MEASUREMENT PROCEDURE (continued)',\n",
       "  'Ultron Systems Model UH102/102-12 UV Curing System',\n",
       "  'UV LAMP MEASUREMENT PROCEDURE (continued)\\nj) Repeat steps “g” and “h”.\\\\n\\\\nk) Average the intensity level readings from both testing sessions to determine the overall average of the UV lamp intensity.\\\\n\\\\nNOTE: When taking intensity measurements, it is necessary to multiply the reading of the UV Radiometer by a factor of 10. The resulting figure will indicate the actual UV light intensity at the film/wafer position.\\\\n\\\\nl) Turn off the Radiometer, then remove the Radiometer and Sensor by reversing the above procedures, and replace the blank plug in the Sensor cable port.\\\\n\\\\nm) The system is now ready for normal operation.'),\n",
       " ('f6en6onlvaybhpdxahj0fiky',\n",
       "  'header',\n",
       "  'CONTROLS AND ADJUSTMENTS (continued)',\n",
       "  'Ultron Systems Model UH102/102-12 UV Curing System',\n",
       "  'CONTROLS AND ADJUSTMENTS (continued)\\nNUMERIC KEYS\\nLocated on the DISPLAY panel. Used for entering UV curing time. Numbers displayed are in seconds. A maximum of 128 seconds exposure can be entered for each exposure cycle.\\nDISPLAY\\nIndicates the current status of the unit.\\nREADY LIGHT\\nIf solid red, it indicates the unit is in the exposure cycle. If flashing red, it indicates that the exposure cycle is completed and that the sample should be removed.\\nSYSTEM PRESSURE (gauge and knob)\\nLocated on the left side of the rear panel of the unit. The pressure gauge is located directly above the pressure regulator adjustment knob. Indicates and adjusts the incoming air supply pressure. Used for operating the UV lamp Shutter and the Door Lock.\\nN₂ FLOW CONTROL\\nLocated in the lower front right corner of the unit. Regulates the flow of N₂ in the U.V. Curing Chamber. A flow of 50 SCFH is highly recommended for optimum lamp performance.\\nUV LAMP (Figure 4)\\nThe U.V. Lamp requires no adjustment. Lamp life varies according to machine usage. (See installation and removal instructions in the INSTALLATION section, and measuring lamp intensity in the UV LAMP MEASUREMENT section.)\\nUV MEASUREMENT PORT (Figure 3)\\nLocated on top of the Door, in the upper right hand corner. Normally closed using a blank plug. Used by inserting a Sensor connected to a Radiometer into the exposure area, setting the Sensor on top of the Quartz Window near the center, extending the cable to the opening in the port, and inserting the cable adapter into the opening to secure it into position (see UV LAMP MEASUREMENT section). NOTE: Do not leave the sensor in the Measurement Port for extended periods of time, or damage will occur to the sensor due to solarization. NOTE: It is recommended that the sensor be removed as soon as the measurement is completed.')]"
      ]
     },
     "execution_count": 19,
     "metadata": {},
     "output_type": "execute_result"
    }
   ],
   "source": [
    "retrieved_chunks = neon.get_top_k_similar_docs(vector, 10)\n",
    "retrieved_chunks\n"
   ]
  },
  {
   "cell_type": "code",
   "execution_count": 20,
   "id": "713cc526",
   "metadata": {},
   "outputs": [],
   "source": [
    "df = pd.DataFrame(retrieved_chunks, columns=['chunk_id', 'parent_type', \n",
    "                                          'parent_content', 'name_of_tool', \n",
    "                                          'content'])"
   ]
  },
  {
   "cell_type": "code",
   "execution_count": 21,
   "id": "514b2f26",
   "metadata": {},
   "outputs": [
    {
     "data": {
      "text/html": [
       "<div>\n",
       "<style scoped>\n",
       "    .dataframe tbody tr th:only-of-type {\n",
       "        vertical-align: middle;\n",
       "    }\n",
       "\n",
       "    .dataframe tbody tr th {\n",
       "        vertical-align: top;\n",
       "    }\n",
       "\n",
       "    .dataframe thead th {\n",
       "        text-align: right;\n",
       "    }\n",
       "</style>\n",
       "<table border=\"1\" class=\"dataframe\">\n",
       "  <thead>\n",
       "    <tr style=\"text-align: right;\">\n",
       "      <th></th>\n",
       "      <th>chunk_id</th>\n",
       "      <th>parent_type</th>\n",
       "      <th>parent_content</th>\n",
       "      <th>name_of_tool</th>\n",
       "      <th>content</th>\n",
       "    </tr>\n",
       "  </thead>\n",
       "  <tbody>\n",
       "    <tr>\n",
       "      <th>0</th>\n",
       "      <td>mc2scgxelv2e4pph41upli2m</td>\n",
       "      <td>header</td>\n",
       "      <td>INSTALLATION (continued)</td>\n",
       "      <td>Ultron Systems Model UH102/102-12 UV Curing Sy...</td>\n",
       "      <td>INSTALLATION (continued)\\nUV Lamp Installation...</td>\n",
       "    </tr>\n",
       "    <tr>\n",
       "      <th>1</th>\n",
       "      <td>z8ukh96mym8mt80xip5ienxz</td>\n",
       "      <td>narrative_text</td>\n",
       "      <td>IMPORTANT NOTE!!!: UV Lamp installation and re...</td>\n",
       "      <td>Ultron Systems Model UH102/102-12 UV Curing Sy...</td>\n",
       "      <td>IMPORTANT NOTE!!!: UV Lamp installation and re...</td>\n",
       "    </tr>\n",
       "    <tr>\n",
       "      <th>2</th>\n",
       "      <td>up7o0pghxvjc8zphf2phpcax</td>\n",
       "      <td>header</td>\n",
       "      <td>INSTALLATION (continued)</td>\n",
       "      <td>Ultron Systems Model UH102/102-12 UV Curing Sy...</td>\n",
       "      <td>INSTALLATION (continued)\\nUV Lamp Installation...</td>\n",
       "    </tr>\n",
       "    <tr>\n",
       "      <th>3</th>\n",
       "      <td>k22fpmx7ql8uwa08jrjcoabv</td>\n",
       "      <td>header</td>\n",
       "      <td>UV LAMP MEASUREMENT PROCEDURE</td>\n",
       "      <td>Ultron Systems Model UH102/102-12 UV Curing Sy...</td>\n",
       "      <td>UV LAMP MEASUREMENT PROCEDURE\\na) Make certain...</td>\n",
       "    </tr>\n",
       "    <tr>\n",
       "      <th>4</th>\n",
       "      <td>zk017xheg7tuwnx0mgmd3e20</td>\n",
       "      <td>header</td>\n",
       "      <td>INSTALLATION</td>\n",
       "      <td>Ultron Systems Model UH102/102-12 UV Curing Sy...</td>\n",
       "      <td>INSTALLATION\\nThe Model UH102 Manual UV Curing...</td>\n",
       "    </tr>\n",
       "    <tr>\n",
       "      <th>5</th>\n",
       "      <td>o6a2kd5j3t58ha1j5u92jl7e</td>\n",
       "      <td>header</td>\n",
       "      <td>UV LAMP MEASUREMENT PROCEDURE</td>\n",
       "      <td>Ultron Systems Model UH102/102-12 UV Curing Sy...</td>\n",
       "      <td>UV LAMP MEASUREMENT PROCEDURE\\nUltron Systems ...</td>\n",
       "    </tr>\n",
       "    <tr>\n",
       "      <th>6</th>\n",
       "      <td>vbofhr5257pwro6z976pgdrn</td>\n",
       "      <td>image</td>\n",
       "      <td>Diagram labeled 'Figure 4' showing the UH102 l...</td>\n",
       "      <td>Ultron Systems Model UH102/102-12 UV Curing Sy...</td>\n",
       "      <td>Diagram labeled 'Figure 4' showing the UH102 l...</td>\n",
       "    </tr>\n",
       "    <tr>\n",
       "      <th>7</th>\n",
       "      <td>ao3qiw8s0ektny9uvmwza7o0</td>\n",
       "      <td>header</td>\n",
       "      <td>OPERATION</td>\n",
       "      <td>Ultron Systems Model UH102/102-12 UV Curing Sy...</td>\n",
       "      <td>OPERATION\\na) Depress the POWER button to turn...</td>\n",
       "    </tr>\n",
       "    <tr>\n",
       "      <th>8</th>\n",
       "      <td>xwy6rskr2rs0dirywcuz8757</td>\n",
       "      <td>header</td>\n",
       "      <td>UV LAMP MEASUREMENT PROCEDURE (continued)</td>\n",
       "      <td>Ultron Systems Model UH102/102-12 UV Curing Sy...</td>\n",
       "      <td>UV LAMP MEASUREMENT PROCEDURE (continued)\\nj) ...</td>\n",
       "    </tr>\n",
       "    <tr>\n",
       "      <th>9</th>\n",
       "      <td>f6en6onlvaybhpdxahj0fiky</td>\n",
       "      <td>header</td>\n",
       "      <td>CONTROLS AND ADJUSTMENTS (continued)</td>\n",
       "      <td>Ultron Systems Model UH102/102-12 UV Curing Sy...</td>\n",
       "      <td>CONTROLS AND ADJUSTMENTS (continued)\\nNUMERIC ...</td>\n",
       "    </tr>\n",
       "  </tbody>\n",
       "</table>\n",
       "</div>"
      ],
      "text/plain": [
       "                   chunk_id     parent_type  \\\n",
       "0  mc2scgxelv2e4pph41upli2m          header   \n",
       "1  z8ukh96mym8mt80xip5ienxz  narrative_text   \n",
       "2  up7o0pghxvjc8zphf2phpcax          header   \n",
       "3  k22fpmx7ql8uwa08jrjcoabv          header   \n",
       "4  zk017xheg7tuwnx0mgmd3e20          header   \n",
       "5  o6a2kd5j3t58ha1j5u92jl7e          header   \n",
       "6  vbofhr5257pwro6z976pgdrn           image   \n",
       "7  ao3qiw8s0ektny9uvmwza7o0          header   \n",
       "8  xwy6rskr2rs0dirywcuz8757          header   \n",
       "9  f6en6onlvaybhpdxahj0fiky          header   \n",
       "\n",
       "                                      parent_content  \\\n",
       "0                           INSTALLATION (continued)   \n",
       "1  IMPORTANT NOTE!!!: UV Lamp installation and re...   \n",
       "2                           INSTALLATION (continued)   \n",
       "3                      UV LAMP MEASUREMENT PROCEDURE   \n",
       "4                                       INSTALLATION   \n",
       "5                      UV LAMP MEASUREMENT PROCEDURE   \n",
       "6  Diagram labeled 'Figure 4' showing the UH102 l...   \n",
       "7                                          OPERATION   \n",
       "8          UV LAMP MEASUREMENT PROCEDURE (continued)   \n",
       "9               CONTROLS AND ADJUSTMENTS (continued)   \n",
       "\n",
       "                                        name_of_tool  \\\n",
       "0  Ultron Systems Model UH102/102-12 UV Curing Sy...   \n",
       "1  Ultron Systems Model UH102/102-12 UV Curing Sy...   \n",
       "2  Ultron Systems Model UH102/102-12 UV Curing Sy...   \n",
       "3  Ultron Systems Model UH102/102-12 UV Curing Sy...   \n",
       "4  Ultron Systems Model UH102/102-12 UV Curing Sy...   \n",
       "5  Ultron Systems Model UH102/102-12 UV Curing Sy...   \n",
       "6  Ultron Systems Model UH102/102-12 UV Curing Sy...   \n",
       "7  Ultron Systems Model UH102/102-12 UV Curing Sy...   \n",
       "8  Ultron Systems Model UH102/102-12 UV Curing Sy...   \n",
       "9  Ultron Systems Model UH102/102-12 UV Curing Sy...   \n",
       "\n",
       "                                             content  \n",
       "0  INSTALLATION (continued)\\nUV Lamp Installation...  \n",
       "1  IMPORTANT NOTE!!!: UV Lamp installation and re...  \n",
       "2  INSTALLATION (continued)\\nUV Lamp Installation...  \n",
       "3  UV LAMP MEASUREMENT PROCEDURE\\na) Make certain...  \n",
       "4  INSTALLATION\\nThe Model UH102 Manual UV Curing...  \n",
       "5  UV LAMP MEASUREMENT PROCEDURE\\nUltron Systems ...  \n",
       "6  Diagram labeled 'Figure 4' showing the UH102 l...  \n",
       "7  OPERATION\\na) Depress the POWER button to turn...  \n",
       "8  UV LAMP MEASUREMENT PROCEDURE (continued)\\nj) ...  \n",
       "9  CONTROLS AND ADJUSTMENTS (continued)\\nNUMERIC ...  "
      ]
     },
     "execution_count": 21,
     "metadata": {},
     "output_type": "execute_result"
    }
   ],
   "source": [
    "df"
   ]
  },
  {
   "cell_type": "code",
   "execution_count": 23,
   "id": "4351061c",
   "metadata": {},
   "outputs": [
    {
     "data": {
      "text/plain": [
       "['Ultron Systems Model UH102/102-12 UV Curing System']"
      ]
     },
     "execution_count": 23,
     "metadata": {},
     "output_type": "execute_result"
    }
   ],
   "source": [
    "tools = neon.get_tool_names()\n",
    "tools"
   ]
  },
  {
   "cell_type": "markdown",
   "id": "e7967654",
   "metadata": {},
   "source": [
    "## Query Neon\n",
    "1. Get user prompt\n",
    "2. Send prompt to openai embeddings api and extract the vector\n",
    "3. Send the vector to Neon to find nearest neighbors\n",
    "4. Get the retrieved chunks"
   ]
  },
  {
   "cell_type": "markdown",
   "id": "bdc8bf4d",
   "metadata": {},
   "source": [
    "### Fill in your prompt info below "
   ]
  },
  {
   "cell_type": "code",
   "execution_count": null,
   "id": "ecc1a8b7",
   "metadata": {},
   "outputs": [],
   "source": [
    "prompt = 'type your questions here'\n",
    "k = 10 # number of retrievals\n",
    "tenant_name = 'your_tenant_name'\n",
    "weaviate_class = 'your class_name'"
   ]
  },
  {
   "cell_type": "code",
   "execution_count": null,
   "id": "0827aef8",
   "metadata": {},
   "outputs": [],
   "source": [
    "retrieved_texts = weav.query_weaviate(prompt, k, weaviate_class, tenant_name)\n",
    "retrieved_texts"
   ]
  },
  {
   "cell_type": "markdown",
   "id": "9099043f",
   "metadata": {},
   "source": []
  }
 ],
 "metadata": {
  "kernelspec": {
   "display_name": "Python 3 (ipykernel)",
   "language": "python",
   "name": "python3"
  },
  "language_info": {
   "codemirror_mode": {
    "name": "ipython",
    "version": 3
   },
   "file_extension": ".py",
   "mimetype": "text/x-python",
   "name": "python",
   "nbconvert_exporter": "python",
   "pygments_lexer": "ipython3",
   "version": "3.10.12"
  }
 },
 "nbformat": 4,
 "nbformat_minor": 5
}
