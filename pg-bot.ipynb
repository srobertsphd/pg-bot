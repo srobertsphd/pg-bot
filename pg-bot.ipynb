{
 "cells": [
  {
   "cell_type": "markdown",
   "id": "4e29fddc",
   "metadata": {},
   "source": [
    "January 6th, 2024  \n",
    "RAG-bot  \n",
    "Code Guru: Samantha Roberts \n"
   ]
  },
  {
   "cell_type": "markdown",
   "id": "a5a49268",
   "metadata": {},
   "source": [
    "## Outline\n",
    "* PDF Plumber\n",
    "    * Read in the PDF Text (chunk text by page and newline)\n",
    "    * Read in the PDF Tables (extract tables for pdf)\n",
    "    * Generate text embeddings with data in DF (generate text df with embeddings)\n",
    "    * Generate table embeddings with data in DF (generate table df with embeddings)\n",
    "    * Combine text and table dataframes (combine text and table)\n",
    "---\n",
    "* Weaviate\n",
    "    * create tenant in manuals (add tenant)  \n",
    "    * add data to weaviate cloud (add data)  \n",
    "---\n",
    "* In Dashboard\n",
    "    * get prompt from user\n",
    "    * vectorize prompt\n",
    "    * query weaviate cloud (query weaviate)\n",
    "    * Format for App output (retrieve formatted)"
   ]
  },
  {
   "cell_type": "code",
   "execution_count": 1,
   "id": "319fa9d1",
   "metadata": {},
   "outputs": [],
   "source": [
    "# this is needed to import the module ragbot \n",
    "\n",
    "import sys\n",
    "sys.path.append('/home/sng/RAG-bot/ragbot') "
   ]
  },
  {
   "cell_type": "code",
   "execution_count": null,
   "id": "fd543239",
   "metadata": {},
   "outputs": [],
   "source": [
    "from ragbot.config import get_client \n",
    "from ragbot import weav\n",
    "from ragbot import plumb\n",
    "from ragbot import utils\n",
    "import pandas as pd\n",
    "\n",
    "%load_ext autoreload\n",
    "%autoreload 2"
   ]
  },
  {
   "cell_type": "markdown",
   "id": "03f5f363",
   "metadata": {},
   "source": [
    "### Initialize the weaviate client"
   ]
  },
  {
   "cell_type": "code",
   "execution_count": 12,
   "id": "b13ef890",
   "metadata": {},
   "outputs": [
    {
     "data": {
      "text/plain": [
       "True"
      ]
     },
     "execution_count": 12,
     "metadata": {},
     "output_type": "execute_result"
    }
   ],
   "source": [
    "client = get_client()\n",
    "client.is_ready()"
   ]
  },
  {
   "cell_type": "markdown",
   "id": "15d5febd",
   "metadata": {},
   "source": [
    "### Enter your Weaviate Class name below"
   ]
  },
  {
   "cell_type": "code",
   "execution_count": null,
   "id": "2f3d7db5",
   "metadata": {},
   "outputs": [],
   "source": [
    "WEAVIATE_CLASS = 'Manuals'"
   ]
  },
  {
   "cell_type": "markdown",
   "id": "d7807a8f",
   "metadata": {},
   "source": [
    "### Read in the data with embeddings"
   ]
  },
  {
   "cell_type": "code",
   "execution_count": null,
   "id": "0397476c",
   "metadata": {},
   "outputs": [],
   "source": [
    "df = pd.read_parquet('data/text_and_embeds.parquet', engine='pyarrow')\n",
    "tenant_list = list(df.filename.unique())\n",
    "tenant_list"
   ]
  },
  {
   "cell_type": "code",
   "execution_count": null,
   "id": "b686afdc",
   "metadata": {},
   "outputs": [],
   "source": [
    "df.info()"
   ]
  },
  {
   "cell_type": "code",
   "execution_count": null,
   "id": "d90821be",
   "metadata": {},
   "outputs": [],
   "source": [
    "list(df.columns)"
   ]
  },
  {
   "cell_type": "markdown",
   "id": "e7f670ae",
   "metadata": {},
   "source": [
    "### Create the class in the weaviate database"
   ]
  },
  {
   "cell_type": "code",
   "execution_count": null,
   "id": "213b6b62",
   "metadata": {},
   "outputs": [],
   "source": [
    "weav.create_class(WEAVIATE_CLASS)"
   ]
  },
  {
   "cell_type": "code",
   "execution_count": null,
   "id": "3eda1626",
   "metadata": {},
   "outputs": [],
   "source": [
    "weav.get_schema(WEAVIATE_CLASS)"
   ]
  },
  {
   "cell_type": "markdown",
   "id": "4a040511",
   "metadata": {},
   "source": [
    "### Create Tenants - 1 for each manual"
   ]
  },
  {
   "cell_type": "code",
   "execution_count": null,
   "id": "74a5610c",
   "metadata": {},
   "outputs": [],
   "source": [
    "for tenant in tenant_list:\n",
    "    weav.add_tenant(tenant, WEAVIATE_CLASS)"
   ]
  },
  {
   "cell_type": "code",
   "execution_count": null,
   "id": "569f6798",
   "metadata": {},
   "outputs": [],
   "source": [
    "weav.write_tenants(WEAVIATE_CLASS)"
   ]
  },
  {
   "cell_type": "markdown",
   "id": "eae568ce",
   "metadata": {},
   "source": [
    "### Upload the data to Weaviate, 1 tenant at a time"
   ]
  },
  {
   "cell_type": "code",
   "execution_count": null,
   "id": "2f9bac00",
   "metadata": {},
   "outputs": [],
   "source": [
    "for tenant in tenant_list:\n",
    "    temp = df[df.filename == tenant]\n",
    "    print(f'Now adding {tenant}')\n",
    "    weav.add_pdf_data_objects(temp, 'New_manuals', tenant)"
   ]
  },
  {
   "cell_type": "markdown",
   "id": "e7967654",
   "metadata": {},
   "source": [
    "## Query Weaviate\n",
    "1. Get user prompt\n",
    "2. Send prompt to openai embeddings api and extract the vector\n",
    "3. Send the vector to Weaviate to find nearest neighbors\n",
    "4. Get the retrieved text with the associated metadata, scores, page_number and filename"
   ]
  },
  {
   "cell_type": "markdown",
   "id": "bdc8bf4d",
   "metadata": {},
   "source": [
    "### Fill in your prompt info below "
   ]
  },
  {
   "cell_type": "code",
   "execution_count": null,
   "id": "ecc1a8b7",
   "metadata": {},
   "outputs": [],
   "source": [
    "prompt = 'type your questions here'\n",
    "k = 10 # number of retrievals\n",
    "tenant_name = 'your_tenant_name'\n",
    "weaviate_class = 'your class_name'"
   ]
  },
  {
   "cell_type": "code",
   "execution_count": null,
   "id": "0827aef8",
   "metadata": {},
   "outputs": [],
   "source": [
    "retrieved_texts = weav.query_weaviate(prompt, k, weaviate_class, tenant_name)\n",
    "retrieved_texts"
   ]
  },
  {
   "cell_type": "markdown",
   "id": "75566e2c",
   "metadata": {},
   "source": [
    "### Text Ingestion Pipeline\n",
    "1. create dataframe from google sheet containing the list of pdfs and the corresponding tenant names\n",
    "2. scrape the text and tables using PDF Plumber\n",
    "3. create the embeddings for the text and tables with openAI embedding\n",
    "4. store these in a df\n",
    "5. write the dataframe to a file (so you do not have to recreate the pickle files)"
   ]
  },
  {
   "cell_type": "code",
   "execution_count": null,
   "id": "0a213c6f",
   "metadata": {},
   "outputs": [],
   "source": [
    "pdf_path = 'path to your PDF file'\n",
    "chunk_size = 500 # or other integer\n",
    "\n",
    "chunked_df = plumb.pdf_to_df(pdf_path, chunk_size)"
   ]
  },
  {
   "cell_type": "markdown",
   "id": "034ab395",
   "metadata": {},
   "source": [
    "### Configure and upload to Weaviate\n",
    "1. Create the tenants for each of the PDFs\n",
    "2. upload each of the embeddings with the metadata to weaviate cloud\n",
    "3. verify the upload in the dashboard"
   ]
  },
  {
   "cell_type": "markdown",
   "id": "9099043f",
   "metadata": {},
   "source": []
  }
 ],
 "metadata": {
  "kernelspec": {
   "display_name": "Python 3 (ipykernel)",
   "language": "python",
   "name": "python3"
  },
  "language_info": {
   "codemirror_mode": {
    "name": "ipython",
    "version": 3
   },
   "file_extension": ".py",
   "mimetype": "text/x-python",
   "name": "python",
   "nbconvert_exporter": "python",
   "pygments_lexer": "ipython3",
   "version": "3.9.12"
  }
 },
 "nbformat": 4,
 "nbformat_minor": 5
}
